{
 "cells": [
  {
   "cell_type": "markdown",
   "metadata": {},
   "source": [
    "# 笔记——深度学习预备知识\n",
    "## 前言\n",
    "**文中所有内容来源于《动手学深度学习》，官方电子书网址：[《动手学深度学习》 — 动手学深度学习 2.0.0-beta0 documentation (d2l.ai)](http://zh-v2.d2l.ai/index.html)**"
   ]
  },
  {
   "cell_type": "markdown",
   "metadata": {},
   "source": [
    "## 一、数据操作\n",
    "\n",
    "### 广播机制\n",
    "\n",
    "广播机制解决的是不同形状的张量之间的元素操作。通常来说，形状不同的矩阵亦或者说张量，是不能做加法的。广播机制就可以做到。"
   ]
  },
  {
   "cell_type": "code",
   "execution_count": 1,
   "metadata": {},
   "outputs": [
    {
     "name": "stdout",
     "output_type": "stream",
     "text": [
      "tensor([[ 0,  1,  2,  3],\n",
      "        [ 4,  5,  6,  7],\n",
      "        [ 8,  9, 10, 11]])\n",
      "tensor([[ 3,  4,  5,  6],\n",
      "        [ 7,  8,  9, 10],\n",
      "        [11, 12, 13, 14]])\n"
     ]
    }
   ],
   "source": [
    "import torch\n",
    "a = torch.arange(12).reshape(3,-1)\n",
    "print(a)\n",
    "a += 3\n",
    "print(a)"
   ]
  },
  {
   "cell_type": "markdown",
   "metadata": {},
   "source": [
    "### 节省内存\n",
    "\n",
    "其实我个人认为节省内存这一问题不在于节省内存。在于当神经网络优化的时候引用到了旧的参数，这会带来一些问题。于是我们更希望的不是对操作后的参数重新开辟一个内存空间，然后再对这个空间里的参数优化（所谓优化网络时引用到了旧的参数地址，可能就是体现在我们没有引用到新开辟的内存里的参数），而是希望就地优化、就地执行对参数的优化。\n",
    "\n",
    "《动手学深度学习》中的作者提供了两种方式：\n",
    "\n",
    "**（1）提前分配空间**"
   ]
  },
  {
   "cell_type": "code",
   "execution_count": null,
   "metadata": {},
   "outputs": [],
   "source": [
    "import torch\n",
    "a = torch.arange(12).reshape(3,-1)\n",
    "b = torch.randn(3,4)\n",
    "z = torch.zeros_like(b)\n",
    "print(id(z))\n",
    "z[:] = a+b\n",
    "print(id(z))"
   ]
  },
  {
   "cell_type": "markdown",
   "metadata": {},
   "source": [
    "**最重要的是：z[:]而不是z=a+b，不然地址是不一样的**"
   ]
  },
  {
   "cell_type": "code",
   "execution_count": 8,
   "metadata": {},
   "outputs": [
    {
     "name": "stdout",
     "output_type": "stream",
     "text": [
      "139775016451328\n",
      "139769237244736\n"
     ]
    }
   ],
   "source": [
    "import torch\n",
    "a = torch.arange(12).reshape(3,-1)\n",
    "b = torch.randn(3,4)\n",
    "z = torch.zeros_like(b)\n",
    "print(id(z))\n",
    "z = a+b\n",
    "print(id(z))"
   ]
  },
  {
   "cell_type": "markdown",
   "metadata": {},
   "source": [
    "**（2）用“+=”运算符**\n",
    "\n",
    "如果忘了或者不习惯z[:]=a+b，就"
   ]
  }
 ],
 "metadata": {
  "interpreter": {
   "hash": "58f2fae1afd4df599b3735774d277e16b9d8b95eb81e0d6244e0e6371677b751"
  },
  "kernelspec": {
   "display_name": "Python 3.8.10 64-bit ('pt': conda)",
   "language": "python",
   "name": "python3"
  },
  "language_info": {
   "codemirror_mode": {
    "name": "ipython",
    "version": 3
   },
   "file_extension": ".py",
   "mimetype": "text/x-python",
   "name": "python",
   "nbconvert_exporter": "python",
   "pygments_lexer": "ipython3",
   "version": "3.8.10"
  },
  "orig_nbformat": 4
 },
 "nbformat": 4,
 "nbformat_minor": 2
}
